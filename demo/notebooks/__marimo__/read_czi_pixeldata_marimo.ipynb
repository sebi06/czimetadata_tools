{
 "cells": [
  {
   "cell_type": "code",
   "execution_count": null,
   "id": "Hbol",
   "metadata": {},
   "outputs": [],
   "source": [
    "import marimo as mo\n",
    "import pandas as pd\n",
    "from czitools.metadata_tools import czi_metadata as czimd\n",
    "from czitools.utils import misc\n",
    "from czitools.read_tools import read_tools as czird\n",
    "import dask.array as da\n",
    "from pathlib import Path\n",
    "import os\n",
    "import glob\n",
    "from matplotlib import pyplot as plt\n",
    "import matplotlib.cm as cm\n",
    "from matplotlib.colors import LinearSegmentedColormap"
   ]
  },
  {
   "cell_type": "code",
   "execution_count": null,
   "id": "MJUe",
   "metadata": {},
   "outputs": [
    {
     "data": {
      "text/html": [
       "<div style='display: flex;flex: 1;flex-direction: column;justify-content: flex-start;align-items: normal;flex-wrap: nowrap;gap: 0.5rem'><div><marimo-ui-element object-id='MJUe-0' random-id='bdd640fb-0667-1ad1-1c80-317fa3b1799d'><marimo-file-browser data-initial-value='[]' data-label='null' data-initial-path='&quot;F:&#92;&#92;Github&#92;&#92;czitools&quot;' data-selection-mode='&quot;file&quot;' data-filetypes='[]' data-multiple='false' data-restrict-navigation='false'></marimo-file-browser></marimo-ui-element></div></div>"
      ]
     },
     "metadata": {},
     "output_type": "display_data"
    }
   ],
   "source": [
    "file_browser = mo.ui.file_browser(multiple=False)\n",
    "\n",
    "# Display the file browser\n",
    "mo.vstack([file_browser])"
   ]
  },
  {
   "cell_type": "code",
   "execution_count": null,
   "id": "vblA",
   "metadata": {},
   "outputs": [
    {
     "name": "stdout",
     "output_type": "stream",
     "text": [
      "Filepath: None\n"
     ]
    }
   ],
   "source": [
    "filepath = str(file_browser.path(0))\n",
    "print(f\"Filepath: {filepath}\")"
   ]
  },
  {
   "cell_type": "code",
   "execution_count": null,
   "id": "bkHC",
   "metadata": {},
   "outputs": [
    {
     "name": "stderr",
     "output_type": "stream",
     "text": [
      "<span class=\"codehilite\"><div class=\"highlight\"><pre><span></span><span class=\"gt\">Traceback (most recent call last):</span>\n",
      "  File <span class=\"nb\">&quot;F:\\Documents\\anaconda3\\envs\\zen\\Lib\\site-packages\\marimo\\_runtime\\executor.py&quot;</span>, line <span class=\"m\">141</span>, in <span class=\"n\">execute_cell</span>\n",
      "<span class=\"w\">    </span><span class=\"n\">exec</span><span class=\"p\">(</span><span class=\"n\">cell</span><span class=\"o\">.</span><span class=\"n\">body</span><span class=\"p\">,</span> <span class=\"n\">glbls</span><span class=\"p\">)</span>\n",
      "  File <span class=\"nb\">&quot;F:\\AppData_TEMP\\Temp\\marimo_25684\\__marimo__cell_bkHC_.py&quot;</span>, line <span class=\"m\">16</span>, in <span class=\"n\">&lt;module&gt;</span>\n",
      "<span class=\"w\">    </span><span class=\"n\">array6d</span><span class=\"p\">,</span> <span class=\"n\">mdata</span> <span class=\"o\">=</span> <span class=\"n\">czird</span><span class=\"o\">.</span><span class=\"n\">read_6darray</span><span class=\"p\">(</span><span class=\"n\">filepath</span><span class=\"p\">,</span> <span class=\"n\">use_dask</span><span class=\"o\">=</span><span class=\"kc\">False</span><span class=\"p\">,</span> <span class=\"n\">chunk_zyx</span><span class=\"o\">=</span><span class=\"kc\">True</span><span class=\"p\">)</span>\n",
      "<span class=\"w\">                     </span><span class=\"pm\">^^^^^^^^^^^^^^^^^^^^^^^^^^^^^^^^^^^^^^^^^^^^^^^^^^^^^^^^^^^^</span>\n",
      "  File <span class=\"nb\">&quot;F:\\Documents\\anaconda3\\envs\\zen\\Lib\\site-packages\\czitools\\read_tools\\read_tools.py&quot;</span>, line <span class=\"m\">73</span>, in <span class=\"n\">read_6darray</span>\n",
      "<span class=\"w\">    </span><span class=\"n\">mdata</span> <span class=\"o\">=</span> <span class=\"n\">czimd</span><span class=\"o\">.</span><span class=\"n\">CziMetadata</span><span class=\"p\">(</span><span class=\"n\">filepath</span><span class=\"p\">)</span>\n",
      "<span class=\"w\">            </span><span class=\"pm\">^^^^^^^^^^^^^^^^^^^^^^^^^^^</span>\n",
      "  File <span class=\"nb\">&quot;&lt;string&gt;&quot;</span>, line <span class=\"m\">16</span>, in <span class=\"n\">__init__</span>\n",
      "  File <span class=\"nb\">&quot;F:\\Documents\\anaconda3\\envs\\zen\\Lib\\site-packages\\czitools\\metadata_tools\\czi_metadata.py&quot;</span>, line <span class=\"m\">162</span>, in <span class=\"n\">__post_init__</span>\n",
      "<span class=\"w\">    </span><span class=\"bp\">self</span><span class=\"o\">.</span><span class=\"n\">czi_box</span> <span class=\"o\">=</span> <span class=\"n\">get_czimd_box</span><span class=\"p\">(</span><span class=\"bp\">self</span><span class=\"o\">.</span><span class=\"n\">filepath</span><span class=\"p\">)</span>\n",
      "<span class=\"w\">                   </span><span class=\"pm\">^^^^^^^^^^^^^^^^^^^^^^^^^^^^</span>\n",
      "  File <span class=\"nb\">&quot;F:\\Documents\\anaconda3\\envs\\zen\\Lib\\site-packages\\czitools\\utils\\box.py&quot;</span>, line <span class=\"m\">28</span>, in <span class=\"n\">get_czimd_box</span>\n",
      "<span class=\"w\">    </span><span class=\"k\">with</span> <span class=\"n\">pyczi</span><span class=\"o\">.</span><span class=\"n\">open_czi</span><span class=\"p\">(</span><span class=\"nb\">str</span><span class=\"p\">(</span><span class=\"n\">filepath</span><span class=\"p\">),</span> <span class=\"n\">readertype</span><span class=\"p\">)</span> <span class=\"k\">as</span> <span class=\"n\">czi_document</span><span class=\"p\">:</span>\n",
      "  File <span class=\"nb\">&quot;F:\\Documents\\anaconda3\\envs\\zen\\Lib\\contextlib.py&quot;</span>, line <span class=\"m\">137</span>, in <span class=\"n\">__enter__</span>\n",
      "<span class=\"w\">    </span><span class=\"k\">return</span> <span class=\"nb\">next</span><span class=\"p\">(</span><span class=\"bp\">self</span><span class=\"o\">.</span><span class=\"n\">gen</span><span class=\"p\">)</span>\n",
      "<span class=\"w\">           </span><span class=\"pm\">^^^^^^^^^^^^^^</span>\n",
      "  File <span class=\"nb\">&quot;F:\\Documents\\anaconda3\\envs\\zen\\Lib\\site-packages\\pylibCZIrw\\czi.py&quot;</span>, line <span class=\"m\">1291</span>, in <span class=\"n\">open_czi</span>\n",
      "<span class=\"w\">    </span><span class=\"n\">reader</span> <span class=\"o\">=</span> <span class=\"n\">CziReader</span><span class=\"p\">(</span><span class=\"n\">filepath</span><span class=\"p\">,</span> <span class=\"n\">file_input_type</span><span class=\"p\">,</span> <span class=\"n\">cache_options</span><span class=\"o\">=</span><span class=\"n\">cache_options</span><span class=\"p\">)</span>\n",
      "<span class=\"w\">             </span><span class=\"pm\">^^^^^^^^^^^^^^^^^^^^^^^^^^^^^^^^^^^^^^^^^^^^^^^^^^^^^^^^^^^^^^^^^</span>\n",
      "  File <span class=\"nb\">&quot;F:\\Documents\\anaconda3\\envs\\zen\\Lib\\site-packages\\pylibCZIrw\\czi.py&quot;</span>, line <span class=\"m\">180</span>, in <span class=\"n\">__init__</span>\n",
      "<span class=\"w\">    </span><span class=\"bp\">self</span><span class=\"o\">.</span><span class=\"n\">_czi_reader</span> <span class=\"o\">=</span> <span class=\"n\">_pylibCZIrw</span><span class=\"o\">.</span><span class=\"n\">czi_reader</span><span class=\"p\">(</span><span class=\"n\">filepath</span><span class=\"p\">,</span> <span class=\"n\">libczi_cache_options</span><span class=\"p\">)</span>\n",
      "<span class=\"w\">                       </span><span class=\"pm\">^^^^^^^^^^^^^^^^^^^^^^^^^^^^^^^^^^^^^^^^^^^^^^^^^^^^^^</span>\n",
      "<span class=\"gr\">RuntimeError</span>: <span class=\"n\">Error opening the file &quot;None&quot;</span>\n",
      "</pre></div>\n",
      "</span>"
     ]
    }
   ],
   "source": [
    "def hex_to_rgb(hex_color: str) -> tuple[int, int, int]:\n",
    "    \"\"\"\n",
    "    Convert a hexadecimal color string to an RGB tuple.\n",
    "    Args:\n",
    "        hex_color (str): A string representing a color in hexadecimal format (e.g., \"#RRGGBB\").\n",
    "    Returns:\n",
    "        tuple[int, int, int]: A tuple containing the RGB values as floats in the range [0, 1].\n",
    "    \"\"\"\n",
    "\n",
    "    hex_color = hex_color.lstrip(\"#\")\n",
    "    rgb = tuple(int(hex_color[i : i + 2], 16) / 255.0 for i in (0, 2, 4))\n",
    "\n",
    "    return rgb\n",
    "\n",
    "# return array with dimension order STCZYX(A)\n",
    "array6d, mdata = czird.read_6darray(filepath, use_dask=False, chunk_zyx=True)\n",
    "\n",
    "# show dask array structure\n",
    "if isinstance(array6d, da.Array):\n",
    "    print(array6d)\n",
    "else:\n",
    "    print(\"Shape:\", array6d.shape, \"dtype:\", array6d.dtype)\n",
    "\n",
    "# Get array dimensions\n",
    "dims = array6d.shape[:-2]\n",
    "dims_names = [\"S\", \"T\", \"C\", \"Z\"]\n",
    "\n",
    "cmaps = []\n",
    "\n",
    "for ch in range(mdata.image.SizeC):\n",
    "    chname = mdata.channelinfo.names[ch]\n",
    "    rgb = hex_to_rgb(mdata.channelinfo.colors[ch][3:])\n",
    "    cmaps.append(LinearSegmentedColormap.from_list(chname, [(0, 0, 0), rgb]))"
   ]
  },
  {
   "cell_type": "code",
   "execution_count": null,
   "id": "lEQa",
   "metadata": {},
   "outputs": [],
   "source": [
    "scene = mo.ui.slider(\n",
    "    start=0,\n",
    "    stop=dims[0] - 1,\n",
    "    step=1,\n",
    "    label=f\"scene [0 - {dims[0]-1}]\",\n",
    "    show_value=True,\n",
    ")\n",
    "\n",
    "time = mo.ui.slider(\n",
    "    start=0,\n",
    "    stop=dims[1] - 1,\n",
    "    step=1,\n",
    "    label=f\"time [0 - {dims[1]-1}]\",\n",
    "    show_value=True,\n",
    ")\n",
    "\n",
    "channel = mo.ui.slider(\n",
    "    start=0,\n",
    "    stop=dims[2] - 1,\n",
    "    step=1,\n",
    "    label=f\"channel [0 - {dims[2]-1}]\",\n",
    "    show_value=True,\n",
    ")\n",
    "\n",
    "zplane = mo.ui.slider(\n",
    "    start=0,\n",
    "    stop=dims[3] - 1,\n",
    "    step=1,\n",
    "    label=f\"zplane [0 - {dims[3]-1}]\",\n",
    "    show_value=True,\n",
    ")\n",
    "\n",
    "mo.vstack([scene, time, channel, zplane])"
   ]
  },
  {
   "cell_type": "code",
   "execution_count": null,
   "id": "PKri",
   "metadata": {},
   "outputs": [],
   "source": [
    "show_2dplane(scene.value, time.value, channel.value, zplane.value)"
   ]
  },
  {
   "cell_type": "code",
   "execution_count": null,
   "id": "Xref",
   "metadata": {},
   "outputs": [],
   "source": [
    "def show_2dplane(s, t, c, z):\n",
    "    plt.figure(figsize=(8, 8))\n",
    "    plt.imshow(array6d[s, t, c, z, ...], cmap=cmaps[c], vmin=None, vmax=None)\n",
    "    plt.tight_layout()\n",
    "    return plt.gca()"
   ]
  }
 ],
 "metadata": {},
 "nbformat": 4,
 "nbformat_minor": 5
}
