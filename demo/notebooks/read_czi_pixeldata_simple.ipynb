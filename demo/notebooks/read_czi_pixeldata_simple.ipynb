{
 "cells": [
  {
   "cell_type": "code",
   "execution_count": null,
   "metadata": {},
   "outputs": [],
   "source": [
    "try:\n",
    "  import google.colab\n",
    "  IN_COLAB = True\n",
    "except:\n",
    "  IN_COLAB = False"
   ]
  },
  {
   "cell_type": "code",
   "execution_count": null,
   "metadata": {},
   "outputs": [],
   "source": [
    "if IN_COLAB:\n",
    "  # Install dependencies\n",
    "  ! pip install --upgrade pip\n",
    "  ! pip install czitools"
   ]
  },
  {
   "cell_type": "code",
   "execution_count": null,
   "metadata": {},
   "outputs": [],
   "source": [
    "# import the required libraries\n",
    "from czitools.metadata_tools import czi_metadata as czimd\n",
    "from czitools.read_tools import read_tools as czird\n",
    "from czitools.utils import misc\n",
    "from IPython.display import display, HTML\n",
    "from pathlib import Path\n",
    "import os\n",
    "import dask.array as da\n",
    "import ipywidgets as widgets\n",
    "\n",
    "if not IN_COLAB:\n",
    "    from czitools.napari_tools import napari_tools\n",
    "    import napari\n"
   ]
  },
  {
   "cell_type": "code",
   "execution_count": null,
   "metadata": {
    "pycharm": {
     "name": "#%%\n"
    }
   },
   "outputs": [],
   "source": [
    "czifiles = [(\"CellDivision_T10_Z15_CH2_DCV_small.czi\", r\"https://github.com/sebi06/czitools/raw/main/data/CellDivision_T10_Z15_CH2_DCV_small.czi\"),\n",
    "            (\"CellDivision_T3_Z5_CH2_X240_Y170.czi\", r\"https://github.com/sebi06/czitools/raw/main/data/CellDivision_T3_Z5_CH2_X240_Y170.czi\"),\n",
    "            (\"WP96_4Pos_B4-10_DAPI.czi\", r\"https://github.com/sebi06/czitools/raw/main/data/WP96_4Pos_B4-10_DAPI.czi\"),\n",
    "            (\"w96_A1+A2.czi\", r\"https://github.com/sebi06/czitools/raw/main/data/w96_A1%2BA2.czi\")]"
   ]
  },
  {
   "cell_type": "code",
   "execution_count": null,
   "metadata": {},
   "outputs": [],
   "source": [
    "wd = widgets.Select(\n",
    "    options=czifiles,\n",
    "    value=r\"https://github.com/sebi06/czitools/raw/main/data/CellDivision_T3_Z5_CH2_X240_Y170.czi\",\n",
    "    description='CZI Files:',\n",
    "    layout={'width': 'max-content'}\n",
    ")\n",
    "\n",
    "display(wd)"
   ]
  },
  {
   "cell_type": "code",
   "execution_count": null,
   "metadata": {},
   "outputs": [],
   "source": [
    "selected_file = wd.value\n",
    "\n",
    "print(f\"Selected CZI File {selected_file}\")"
   ]
  },
  {
   "cell_type": "code",
   "execution_count": null,
   "metadata": {},
   "outputs": [],
   "source": [
    "%%capture\n",
    "# get the complete metadata at once as one big class\n",
    "mdata = czimd.CziMetadata(selected_file)\n",
    "\n",
    "# get the CZI metadata dictionary directly from filename\n",
    "mdict = czimd.create_md_dict_red(mdata, sort=False, remove_none=True)\n",
    "\n",
    "# convert metadata dictionary to a pandas dataframe\n",
    "mdframe = misc.md2dataframe(mdict)"
   ]
  },
  {
   "cell_type": "code",
   "execution_count": null,
   "metadata": {},
   "outputs": [],
   "source": [
    "# create a ipywdiget to show the dataframe with the metadata\n",
    "wd = widgets.Output(layout={\"scrollY\": \"auto\", \"height\": \"300px\"})\n",
    "\n",
    "with wd:\n",
    "    display(HTML(mdframe.to_html()))\n",
    "display(widgets.VBox(children=[wd]))"
   ]
  },
  {
   "cell_type": "code",
   "execution_count": null,
   "metadata": {},
   "outputs": [],
   "source": [
    "# return array with dimension order STCZYX(A)\n",
    "array6d, mdata= czird.read_6darray(selected_file, use_dask=True, chunk_zyx=True)\n",
    "\n",
    "# show dask array structure\n",
    "if isinstance(array6d, da.Array):\n",
    "    print(array6d)\n",
    "else:\n",
    "    print(\"Shape:\", array6d.shape, \"dtype:\", array6d.dtype)\n"
   ]
  },
  {
   "cell_type": "code",
   "execution_count": null,
   "metadata": {},
   "outputs": [],
   "source": [
    "if not IN_COLAB:\n",
    "\n",
    "    # show array inside napari viewer\n",
    "    viewer = napari.Viewer()\n",
    "    layers = napari_tools.show(viewer, array6d, mdata,\n",
    "                               blending=\"additive\",\n",
    "                               contrast='from_czi',\n",
    "                               gamma=0.85,\n",
    "                               show_metadata=\"table\",\n",
    "                               name_sliders=True)"
   ]
  },
  {
   "cell_type": "code",
   "execution_count": null,
   "metadata": {},
   "outputs": [],
   "source": [
    "napari.utils.nbscreenshot(viewer)"
   ]
  }
 ],
 "metadata": {
  "kernelspec": {
   "display_name": "zen",
   "language": "python",
   "name": "python3"
  },
  "language_info": {
   "codemirror_mode": {
    "name": "ipython",
    "version": 3
   },
   "file_extension": ".py",
   "mimetype": "text/x-python",
   "name": "python",
   "nbconvert_exporter": "python",
   "pygments_lexer": "ipython3",
   "version": "3.11.8"
  }
 },
 "nbformat": 4,
 "nbformat_minor": 4
}
